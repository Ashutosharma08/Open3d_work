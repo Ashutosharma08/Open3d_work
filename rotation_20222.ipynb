{
 "cells": [
  {
   "cell_type": "code",
   "execution_count": 1,
   "id": "7f8c875c",
   "metadata": {},
   "outputs": [
    {
     "name": "stdout",
     "output_type": "stream",
     "text": [
      "Jupyter environment detected. Enabling Open3D WebVisualizer.\n",
      "[Open3D INFO] WebRTC GUI backend enabled.\n",
      "[Open3D INFO] WebRTCWindowSystem: HTTP handshake server disabled.\n"
     ]
    }
   ],
   "source": [
    "import open3d as o3d\n",
    "import open3d_tutorial as o3dtut\n",
    "import copy\n",
    "import numpy as np\n",
    "import matplotlib.pyplot as plt"
   ]
  },
  {
   "cell_type": "markdown",
   "id": "dfdbbac2",
   "metadata": {},
   "source": [
    "### Rotation can be achieaved by custom view functions in Open3d. These function help to customize the normal o3d.visualization.draw_geometries([ ]) function as per our need"
   ]
  },
  {
   "cell_type": "markdown",
   "id": "b2868860",
   "metadata": {},
   "source": [
    "Like Opencv, Open3d also has different window options and these can be accessed by Customized view functions"
   ]
  },
  {
   "cell_type": "code",
   "execution_count": 2,
   "id": "32e7016f",
   "metadata": {},
   "outputs": [],
   "source": [
    "#function for visualization window\n",
    "def custom_view(pcd):\n",
    "    vis = o3d.visualization.Visualizer()\n",
    "    vis.create_window()\n",
    "    vis.add_geometry(pcd)\n",
    "    vis.run()\n",
    "    vis.destroy_window()\n",
    "    "
   ]
  },
  {
   "cell_type": "code",
   "execution_count": 3,
   "id": "1641d4f7",
   "metadata": {},
   "outputs": [],
   "source": [
    "pcd = o3d.io.read_point_cloud(\"bunny_final.ply\")\n",
    "custom_view(pcd)"
   ]
  },
  {
   "cell_type": "code",
   "execution_count": 11,
   "id": "e4e4494b",
   "metadata": {},
   "outputs": [],
   "source": [
    "#function for rotation\n",
    "def geometry_rotation(pcd):\n",
    "    def rotate_view(vis):\n",
    "        ctr = vis.get_view_control()\n",
    "        ctr.rotate(0,-10)\n",
    "        return False\n",
    "    o3d.visualization.draw_geometries_with_animation_callback([pcd],rotate_view)"
   ]
  },
  {
   "cell_type": "code",
   "execution_count": 13,
   "id": "69315de9",
   "metadata": {},
   "outputs": [],
   "source": [
    "pcd = o3d.io.read_point_cloud(\"bunny_final.ply\")\n",
    "geometry_rotation(pcd)"
   ]
  },
  {
   "cell_type": "code",
   "execution_count": null,
   "id": "85aab865",
   "metadata": {},
   "outputs": [],
   "source": []
  }
 ],
 "metadata": {
  "kernelspec": {
   "display_name": "Python 3 (ipykernel)",
   "language": "python",
   "name": "python3"
  },
  "language_info": {
   "codemirror_mode": {
    "name": "ipython",
    "version": 3
   },
   "file_extension": ".py",
   "mimetype": "text/x-python",
   "name": "python",
   "nbconvert_exporter": "python",
   "pygments_lexer": "ipython3",
   "version": "3.9.7"
  }
 },
 "nbformat": 4,
 "nbformat_minor": 5
}
