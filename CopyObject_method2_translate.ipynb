{
 "cells": [
  {
   "cell_type": "code",
   "execution_count": 2,
   "id": "75f4b937",
   "metadata": {},
   "outputs": [],
   "source": [
    "import open3d as o3d\n",
    "import copy \n",
    "import numpy as np\n",
    "import matplotlib.pyplot as plt"
   ]
  },
  {
   "cell_type": "code",
   "execution_count": 3,
   "id": "fbdd3825",
   "metadata": {},
   "outputs": [],
   "source": [
    "pcd = o3d.io.read_point_cloud(\"fragment.ply\")\n",
    "cropped = o3d.visualization.read_selection_polygon_volume(\"cropped.json\")\n",
    "chair = cropped.crop_point_cloud(pcd)\n",
    "#o3d.visualization.draw_geometries([chair])"
   ]
  },
  {
   "cell_type": "code",
   "execution_count": 59,
   "id": "3ca45805",
   "metadata": {},
   "outputs": [],
   "source": [
    "chair_copy = copy.deepcopy(chair).translate((0.72, 1.6, 1.9),relative = False)\n",
    "\n",
    "o3d.visualization.draw_geometries([pcd,chair_copy])"
   ]
  },
  {
   "cell_type": "markdown",
   "id": "a65c6bab",
   "metadata": {},
   "source": [
    "#### This is a simpler approach towards this problem, requiring only the manipulation of (x,y,z) co-ordinates."
   ]
  },
  {
   "cell_type": "code",
   "execution_count": 57,
   "id": "dec7295f",
   "metadata": {},
   "outputs": [],
   "source": [
    "def point_picker(pcd):\n",
    "    vis=o3d.visualization.VisualizerWithEditing()  #VisualizerWithEditing()\n",
    "    vis.create_window()\n",
    "    vis.add_geometry(pcd)\n",
    "    vis.run()\n",
    "    vis.destroy_window()\n",
    "    return vis.get_picked_points()"
   ]
  },
  {
   "cell_type": "code",
   "execution_count": 58,
   "id": "119385fc",
   "metadata": {},
   "outputs": [
    {
     "name": "stdout",
     "output_type": "stream",
     "text": [
      "[Open3D INFO] Picked point #42100 (0.72, 1.6, 1.9) to add in queue.\n",
      "[Open3D INFO] Picked point #42100 (0.72, 1.6, 1.9) to add in queue.\n",
      "[Open3D INFO] Picked point #38221 (0.71, 1.5, 1.9) to add in queue.\n",
      "[Open3D INFO] Picked point #41465 (0.71, 1.6, 1.9) to add in queue.\n"
     ]
    },
    {
     "data": {
      "text/plain": [
       "[42100, 42100, 38221, 41465]"
      ]
     },
     "execution_count": 58,
     "metadata": {},
     "output_type": "execute_result"
    }
   ],
   "source": [
    "point_picker(pcd)"
   ]
  },
  {
   "cell_type": "code",
   "execution_count": null,
   "id": "33d99dc9",
   "metadata": {},
   "outputs": [],
   "source": []
  }
 ],
 "metadata": {
  "kernelspec": {
   "display_name": "Python 3 (ipykernel)",
   "language": "python",
   "name": "python3"
  },
  "language_info": {
   "codemirror_mode": {
    "name": "ipython",
    "version": 3
   },
   "file_extension": ".py",
   "mimetype": "text/x-python",
   "name": "python",
   "nbconvert_exporter": "python",
   "pygments_lexer": "ipython3",
   "version": "3.9.7"
  }
 },
 "nbformat": 4,
 "nbformat_minor": 5
}
