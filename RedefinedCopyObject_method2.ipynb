{
 "cells": [
  {
   "cell_type": "code",
   "execution_count": 1,
   "id": "7f53d138",
   "metadata": {},
   "outputs": [
    {
     "name": "stdout",
     "output_type": "stream",
     "text": [
      "Jupyter environment detected. Enabling Open3D WebVisualizer.\n",
      "[Open3D INFO] WebRTC GUI backend enabled.\n",
      "[Open3D INFO] WebRTCWindowSystem: HTTP handshake server disabled.\n"
     ]
    }
   ],
   "source": [
    "import open3d as o3d\n",
    "import copy\n",
    "import numpy as np\n",
    "import matplotlib.pyplot as plt"
   ]
  },
  {
   "cell_type": "code",
   "execution_count": 2,
   "id": "d0f882f7",
   "metadata": {},
   "outputs": [],
   "source": [
    "pcd = o3d.io.read_point_cloud(\"fragment.ply\")\n",
    "#o3d.visualization.draw_geometries([pcd])\n",
    "cropped = o3d.visualization.read_selection_polygon_volume(\"cropped.json\")\n",
    "chair = cropped.crop_point_cloud(pcd)\n",
    "#o3d.visualization.draw_geometries([chair])"
   ]
  },
  {
   "cell_type": "code",
   "execution_count": 3,
   "id": "bd4d2ebe",
   "metadata": {},
   "outputs": [
    {
     "name": "stdout",
     "output_type": "stream",
     "text": [
      "[Open3D INFO] Clearing all points from selection.\n",
      "[Open3D INFO] Adding point #17039 (2.83, 1.25, 1.65) to selection.\n"
     ]
    }
   ],
   "source": [
    "vis = o3d.visualization.VisualizerWithVertexSelection() #Another function which gives us the ability to extract vertices\n",
    "                                                        # of a selected point in the cloud environment\n",
    "vis.create_window()\n",
    "vis.add_geometry(pcd)\n",
    "vis.run()\n",
    "vis.destroy_window()\n",
    "points = vis.get_picked_points()  #getting points in np array\n",
    "values=points[0].coord   #accessing the points in the array \n",
    "values = values.tolist() #typecasting to list\n",
    "values = tuple(values)  #further typecasting to tuple\n",
    "    "
   ]
  },
  {
   "cell_type": "code",
   "execution_count": 4,
   "id": "e8e89682",
   "metadata": {},
   "outputs": [],
   "source": [
    "if len(values) !=0 :\n",
    "\n",
    "\n",
    "    chair_shift = copy.deepcopy(chair).translate(values,relative = False) #giving the tuple as argument and shifting the chair \n",
    "                                                                      # automatically\n",
    "    o3d.visualization.draw_geometries([pcd,chair_shift])"
   ]
  },
  {
   "cell_type": "code",
   "execution_count": 6,
   "id": "5e9f4efc",
   "metadata": {},
   "outputs": [],
   "source": [
    "import time\n",
    "\n",
    "try:\n",
    "    for i in range(0,10):\n",
    "        time.sleep(.1)\n",
    "        o3d.visualization.draw_geometries([pcd])\n",
    "except "
   ]
  },
  {
   "cell_type": "code",
   "execution_count": null,
   "id": "bd07a7dc",
   "metadata": {},
   "outputs": [],
   "source": []
  }
 ],
 "metadata": {
  "kernelspec": {
   "display_name": "Python 3 (ipykernel)",
   "language": "python",
   "name": "python3"
  },
  "language_info": {
   "codemirror_mode": {
    "name": "ipython",
    "version": 3
   },
   "file_extension": ".py",
   "mimetype": "text/x-python",
   "name": "python",
   "nbconvert_exporter": "python",
   "pygments_lexer": "ipython3",
   "version": "3.9.7"
  }
 },
 "nbformat": 4,
 "nbformat_minor": 5
}
