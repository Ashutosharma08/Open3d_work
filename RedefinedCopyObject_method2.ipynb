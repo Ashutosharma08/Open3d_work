{
 "cells": [
  {
   "cell_type": "code",
   "execution_count": 1,
   "id": "7fb28a17",
   "metadata": {},
   "outputs": [
    {
     "name": "stdout",
     "output_type": "stream",
     "text": [
      "Jupyter environment detected. Enabling Open3D WebVisualizer.\n",
      "[Open3D INFO] WebRTC GUI backend enabled.\n",
      "[Open3D INFO] WebRTCWindowSystem: HTTP handshake server disabled.\n"
     ]
    }
   ],
   "source": [
    "import open3d as o3d\n",
    "import copy\n",
    "import numpy as np\n",
    "import matplotlib.pyplot as plt"
   ]
  },
  {
   "cell_type": "code",
   "execution_count": 3,
   "id": "ca4c1979",
   "metadata": {},
   "outputs": [],
   "source": [
    "pcd = o3d.io.read_point_cloud(\"fragment.ply\")\n",
    "#o3d.visualization.draw_geometries([pcd])\n",
    "cropped = o3d.visualization.read_selection_polygon_volume(\"cropped.json\")\n",
    "chair = cropped.crop_point_cloud(pcd)\n",
    "#o3d.visualization.draw_geometries([chair])"
   ]
  },
  {
   "cell_type": "code",
   "execution_count": 49,
   "id": "520ec6c5",
   "metadata": {},
   "outputs": [
    {
     "name": "stdout",
     "output_type": "stream",
     "text": [
      "[Open3D INFO] Clearing all points from selection.\n",
      "[Open3D INFO] Adding point #122808 (1.96, 2.07, 1.93) to selection.\n"
     ]
    }
   ],
   "source": [
    "vis = o3d.visualization.VisualizerWithVertexSelection() #Another function which gives us the ability to extract vertices\n",
    "                                                        # of a selected point in the cloud environment\n",
    "vis.create_window()\n",
    "vis.add_geometry(pcd)\n",
    "vis.run()\n",
    "vis.destroy_window()\n",
    "points = vis.get_picked_points()  #getting points in np array\n",
    "values=points[0].coord   #accessing the points in the array \n",
    "values = values.tolist() #typecasting to list\n",
    "values = tuple(values)  #further typecasting to tuple\n",
    "    "
   ]
  },
  {
   "cell_type": "code",
   "execution_count": 50,
   "id": "eb8043f9",
   "metadata": {},
   "outputs": [],
   "source": [
    "chair_shift = copy.deepcopy(chair).translate(values,relative = False) #giving the tuple as argument and shifting the chair \n",
    "                                                                      # automatically\n",
    "o3d.visualization.draw_geometries([pcd,chair_shift]) "
   ]
  },
  {
   "cell_type": "code",
   "execution_count": null,
   "id": "5bca78fb",
   "metadata": {},
   "outputs": [],
   "source": []
  },
  {
   "cell_type": "code",
   "execution_count": null,
   "id": "a1a1226a",
   "metadata": {},
   "outputs": [],
   "source": []
  }
 ],
 "metadata": {
  "kernelspec": {
   "display_name": "Python 3 (ipykernel)",
   "language": "python",
   "name": "python3"
  },
  "language_info": {
   "codemirror_mode": {
    "name": "ipython",
    "version": 3
   },
   "file_extension": ".py",
   "mimetype": "text/x-python",
   "name": "python",
   "nbconvert_exporter": "python",
   "pygments_lexer": "ipython3",
   "version": "3.9.7"
  }
 },
 "nbformat": 4,
 "nbformat_minor": 5
}
