{
 "cells": [
  {
   "cell_type": "code",
   "execution_count": 9,
   "id": "fb5e2dfb",
   "metadata": {},
   "outputs": [],
   "source": [
    "import open3d as o3d\n",
    "import numpy as np\n",
    "import matplotlib.pyplot as plt\n",
    "import copy"
   ]
  },
  {
   "cell_type": "code",
   "execution_count": 53,
   "id": "6ca93510",
   "metadata": {},
   "outputs": [],
   "source": [
    "def draw_registration_result(source,target,transformation):\n",
    "    copy_source = copy.deepcopy(source)\n",
    "    copy_target = copy.deepcopy(target)\n",
    "    copy_source.transform(transformation)\n",
    "    o3d.visualization.draw_geometries([copy_source,copy_target])"
   ]
  },
  {
   "cell_type": "code",
   "execution_count": 54,
   "id": "46dc9ff2",
   "metadata": {},
   "outputs": [],
   "source": [
    "pcd = o3d.io.read_point_cloud(\"cloud_bin_0.pcd\")\n",
    "#pcd1 = o3d.io.read_point_cloud(\"cloud_bin_1.pcd\")\n",
    "cropped=o3d.visualization.read_selection_polygon_volume(\"cropped.json\")\n",
    "chair = cropped.crop_point_cloud(pcd)\n",
    "#o3d.visualization.draw_geometries([pcd])\n",
    "#o3d.visualization.draw_geometries([chair])"
   ]
  },
  {
   "cell_type": "code",
   "execution_count": 57,
   "id": "771c4631",
   "metadata": {},
   "outputs": [],
   "source": [
    "threshold = 0.02\n",
    "trans_init = np.asarray([[0.862,0.011,-0.50,0.05],\n",
    "                        [-0.139,0.967,-0.215,0.7],\n",
    "                         [0.487,0.255,0.835,-1.4],\n",
    "                         [0.0,0.0,0.0,1.0]])\n",
    "draw_registration_result(pcd,chair,trans_init)"
   ]
  },
  {
   "cell_type": "code",
   "execution_count": null,
   "id": "dc8c1ac7",
   "metadata": {},
   "outputs": [],
   "source": []
  }
 ],
 "metadata": {
  "kernelspec": {
   "display_name": "Python 3 (ipykernel)",
   "language": "python",
   "name": "python3"
  },
  "language_info": {
   "codemirror_mode": {
    "name": "ipython",
    "version": 3
   },
   "file_extension": ".py",
   "mimetype": "text/x-python",
   "name": "python",
   "nbconvert_exporter": "python",
   "pygments_lexer": "ipython3",
   "version": "3.9.7"
  }
 },
 "nbformat": 4,
 "nbformat_minor": 5
}
