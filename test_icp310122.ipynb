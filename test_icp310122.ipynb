{
 "cells": [
  {
   "cell_type": "code",
   "execution_count": 1,
   "id": "6bb63629",
   "metadata": {},
   "outputs": [
    {
     "name": "stdout",
     "output_type": "stream",
     "text": [
      "Jupyter environment detected. Enabling Open3D WebVisualizer.\n",
      "[Open3D INFO] WebRTC GUI backend enabled.\n",
      "[Open3D INFO] WebRTCWindowSystem: HTTP handshake server disabled.\n"
     ]
    }
   ],
   "source": [
    "import open3d as o3d\n",
    "import numpy as np\n",
    "import matplotlib.pyplot as plt\n",
    "import copy"
   ]
  },
  {
   "cell_type": "code",
   "execution_count": 3,
   "id": "990f6a85",
   "metadata": {},
   "outputs": [],
   "source": [
    "pcd = o3d.io.read_point_cloud(\"fragment.ply\")\n",
    "chair = o3d.visualization.read_selection_polygon_volume(\"cropped.json\")\n",
    "chair_crop = chair.crop_point_cloud(pcd)"
   ]
  },
  {
   "cell_type": "code",
   "execution_count": 4,
   "id": "a6b26f39",
   "metadata": {},
   "outputs": [],
   "source": [
    "def draw_result(source,target,transform):\n",
    "    copy_source = copy.deepcopy(source)\n",
    "    copy_target = copy.deepcopy(target)\n",
    "    copy_source.transform(transformation)\n",
    "    o3d.visualization.draw_geometries([copy_source,copy_target,])"
   ]
  },
  {
   "cell_type": "code",
   "execution_count": null,
   "id": "4756ce55",
   "metadata": {},
   "outputs": [],
   "source": []
  }
 ],
 "metadata": {
  "kernelspec": {
   "display_name": "Python 3 (ipykernel)",
   "language": "python",
   "name": "python3"
  },
  "language_info": {
   "codemirror_mode": {
    "name": "ipython",
    "version": 3
   },
   "file_extension": ".py",
   "mimetype": "text/x-python",
   "name": "python",
   "nbconvert_exporter": "python",
   "pygments_lexer": "ipython3",
   "version": "3.9.7"
  }
 },
 "nbformat": 4,
 "nbformat_minor": 5
}
