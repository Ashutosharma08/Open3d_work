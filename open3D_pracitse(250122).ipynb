{
 "cells": [
  {
   "cell_type": "markdown",
   "id": "2c71b241",
   "metadata": {},
   "source": [
    "# Open3D Practise"
   ]
  },
  {
   "cell_type": "code",
   "execution_count": 2,
   "id": "adebdf0c",
   "metadata": {},
   "outputs": [
    {
     "name": "stdout",
     "output_type": "stream",
     "text": [
      "Jupyter environment detected. Enabling Open3D WebVisualizer.\n",
      "[Open3D INFO] WebRTC GUI backend enabled.\n",
      "[Open3D INFO] WebRTCWindowSystem: HTTP handshake server disabled.\n"
     ]
    }
   ],
   "source": [
    "import open3d as o3d\n",
    "import numpy as np\n",
    "import matplotlib.pyplot as plt"
   ]
  },
  {
   "cell_type": "code",
   "execution_count": 21,
   "id": "1f005e2d",
   "metadata": {},
   "outputs": [
    {
     "name": "stdout",
     "output_type": "stream",
     "text": [
      "PointCloud with 196133 points.\n"
     ]
    }
   ],
   "source": [
    "pcd = o3d.io.read_point_cloud(\"fragment.ply\")\n",
    "print(pcd)\n",
    "o3d.visualization.draw_geometries([pcd])"
   ]
  },
  {
   "cell_type": "code",
   "execution_count": 23,
   "id": "92ce95d2",
   "metadata": {},
   "outputs": [],
   "source": [
    "down_pcd = pcd.voxel_down_sample(voxel_size = 0.05)\n",
    "o3d.visualization.draw_geometries([down_pcd]) \n",
    "#down sampling the boxes to have a clearer picture while also not loosing much imformation, alse reducing computational cost."
   ]
  },
  {
   "cell_type": "code",
   "execution_count": 20,
   "id": "5d67c101",
   "metadata": {},
   "outputs": [],
   "source": [
    "down_pcd.estimate_normals(search_param = o3d.geometry.KDTreeSearchParamHybrid(radius = 0.1, max_nn = 30))\n",
    "o3d.visualization.draw_geometries([down_pcd],point_show_normal = True)"
   ]
  },
  {
   "cell_type": "markdown",
   "id": "1e9da80a",
   "metadata": {},
   "source": [
    "### Cropped PCD"
   ]
  },
  {
   "cell_type": "code",
   "execution_count": 24,
   "id": "b944d2f1",
   "metadata": {},
   "outputs": [],
   "source": [
    "cord_crop = o3d.visualization.read_selection_polygon_volume(\"cropped.json\") #importing the cropped co-ordinates\n",
    "\n",
    "chair_crop = cord_crop.crop_point_cloud(pcd)\n",
    "o3d.visualization.draw_geometries([chair_crop])\n",
    "\n",
    "#all the operations can now be performed on this cropped PCD also."
   ]
  },
  {
   "cell_type": "markdown",
   "id": "a22b8d80",
   "metadata": {},
   "source": [
    "###  Distance between PCD "
   ]
  },
  {
   "cell_type": "code",
   "execution_count": 32,
   "id": "c57bb289",
   "metadata": {},
   "outputs": [
    {
     "name": "stdout",
     "output_type": "stream",
     "text": [
      "[1.82659798 1.83171046 1.817216   ... 0.27083108 0.27181889 0.27301031]\n"
     ]
    }
   ],
   "source": [
    "#loading the data points to be cropped, here, the chair would be cropped.\n",
    "pcd = o3d.io.read_point_cloud(\"fragment.ply\")\n",
    "vol = o3d.visualization.read_selection_polygon_volume(\"cropped.json\")\n",
    "chair = vol.crop_point_cloud(pcd)\n",
    "\n",
    "#calculating the distance of the chair \n",
    "dists = pcd.compute_point_cloud_distance(chair)\n",
    "dists = np.asarray(dists)\n",
    "print(dists)\n",
    "\n",
    "#Now, outputting the PCD for the cropped image \n",
    "ind = np.where(dists > 0.1)[0]\n",
    "pcd_without_chair = pcd.select_by_index(ind)\n",
    "o3d.visualization.draw_geometries([pcd_without_chair])"
   ]
  },
  {
   "cell_type": "markdown",
   "id": "8df3374d",
   "metadata": {},
   "source": [
    "### Bounding volumes \n",
    "The PointColud geomety type has bounding volumes as all other geometry types in Open3d. Currently, Open3D implements an AxisAlignedBoundingBox and an OrientedBoundingBox that can also be used to crop the geometry"
   ]
  },
  {
   "cell_type": "code",
   "execution_count": 34,
   "id": "0581b871",
   "metadata": {},
   "outputs": [
    {
     "name": "stdout",
     "output_type": "stream",
     "text": [
      "[Open3D WARNING] [ViewControl] SetViewPoint() failed because window height and width are not set.\n",
      "[Open3D WARNING] [ViewControl] SetViewPoint() failed because window height and width are not set.\n"
     ]
    }
   ],
   "source": [
    "aabb = chair.get_axis_aligned_bounding_box()\n",
    "aabb.color = (1,0,0)\n",
    "obb = chair.get_oriented_bounding_box()\n",
    "obb.color = (0,1,0)\n",
    "o3d.visualization.draw_geometries([chair,aabb,obb])"
   ]
  },
  {
   "cell_type": "code",
   "execution_count": 44,
   "id": "7b688aaa",
   "metadata": {},
   "outputs": [],
   "source": [
    "sphere = o3d.io.read_point_cloud(\"sphere.ply\")\n",
    "#sphere_bound = o3d.geometry.OrientedBoundingBox()\n",
    "#sphere.paint_uniform_color([1,0,0])\n",
    "o3d.visualization.draw_geometries([sphere,sphere_bound])"
   ]
  },
  {
   "cell_type": "code",
   "execution_count": null,
   "id": "015afa3f",
   "metadata": {},
   "outputs": [],
   "source": []
  }
 ],
 "metadata": {
  "kernelspec": {
   "display_name": "Python 3 (ipykernel)",
   "language": "python",
   "name": "python3"
  },
  "language_info": {
   "codemirror_mode": {
    "name": "ipython",
    "version": 3
   },
   "file_extension": ".py",
   "mimetype": "text/x-python",
   "name": "python",
   "nbconvert_exporter": "python",
   "pygments_lexer": "ipython3",
   "version": "3.9.7"
  }
 },
 "nbformat": 4,
 "nbformat_minor": 5
}
