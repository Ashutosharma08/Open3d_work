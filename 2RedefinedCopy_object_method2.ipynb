{
 "cells": [
  {
   "cell_type": "code",
   "execution_count": 2,
   "id": "de55b4f0",
   "metadata": {},
   "outputs": [
    {
     "name": "stdout",
     "output_type": "stream",
     "text": [
      "Jupyter environment detected. Enabling Open3D WebVisualizer.\n",
      "[Open3D INFO] WebRTC GUI backend enabled.\n",
      "[Open3D INFO] WebRTCWindowSystem: HTTP handshake server disabled.\n"
     ]
    }
   ],
   "source": [
    "import open3d as o3d\n",
    "import numpy as np\n",
    "import copy"
   ]
  },
  {
   "cell_type": "code",
   "execution_count": 3,
   "id": "7c503c43",
   "metadata": {},
   "outputs": [],
   "source": [
    "pcd = o3d.io.read_point_cloud(\"fragment.ply\")\n",
    "cropped  = o3d.visualization.read_selection_polygon_volume(\"cropped.json\")\n",
    "chair = cropped.crop_point_cloud(pcd)\n",
    "pcd1 = o3d.io.read_point_cloud(\"sphere.ply\")"
   ]
  },
  {
   "cell_type": "code",
   "execution_count": 8,
   "id": "ad1c4ed1",
   "metadata": {},
   "outputs": [
    {
     "name": "stdout",
     "output_type": "stream",
     "text": [
      "[Open3D INFO] Clearing all points from selection.\n",
      "[Open3D INFO] VisualizerWithVertexSelection only supports one geometry\n",
      "[Open3D INFO] Adding point #22622 (2.45, 1.29, 1.76) to selection.\n",
      "1\n"
     ]
    }
   ],
   "source": [
    "vis = o3d.visualization.VisualizerWithVertexSelection()\n",
    "vis.create_window()\n",
    "vis.add_geometry(pcd)\n",
    "vis.add_geometry(chair)\n",
    "vis.run()\n",
    "vis.destroy_window()\n",
    "points = vis.get_picked_points()\n",
    "values=points[0].coord\n",
    "values = values.tolist()\n",
    "values = tuple(values)\n",
    "key = input()"
   ]
  },
  {
   "cell_type": "code",
   "execution_count": 9,
   "id": "fdeb0c8d",
   "metadata": {},
   "outputs": [],
   "source": [
    "if ((key)!=0):\n",
    "    chair_shift = copy.deepcopy(chair).translate(values,relative = False)\n",
    "    vis2 = o3d.visualization.Visualizer()\n",
    "    vis2.create_window()\n",
    "    vis2.add_geometry(pcd)\n",
    "    vis2.add_geometry(chair_shift)\n",
    "    vis2.run()\n",
    "    vis2.destroy_window()"
   ]
  },
  {
   "cell_type": "code",
   "execution_count": null,
   "id": "b8a5a038",
   "metadata": {},
   "outputs": [],
   "source": []
  }
 ],
 "metadata": {
  "kernelspec": {
   "display_name": "Python 3 (ipykernel)",
   "language": "python",
   "name": "python3"
  },
  "language_info": {
   "codemirror_mode": {
    "name": "ipython",
    "version": 3
   },
   "file_extension": ".py",
   "mimetype": "text/x-python",
   "name": "python",
   "nbconvert_exporter": "python",
   "pygments_lexer": "ipython3",
   "version": "3.9.7"
  }
 },
 "nbformat": 4,
 "nbformat_minor": 5
}
